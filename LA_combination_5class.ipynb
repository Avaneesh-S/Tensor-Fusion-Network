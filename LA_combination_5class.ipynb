{
  "nbformat": 4,
  "nbformat_minor": 0,
  "metadata": {
    "colab": {
      "provenance": []
    },
    "kernelspec": {
      "name": "python3",
      "display_name": "Python 3"
    },
    "language_info": {
      "name": "python"
    }
  },
  "cells": [
    {
      "cell_type": "markdown",
      "metadata": {
        "id": "ijTYESExwGEA"
      },
      "source": [
        "**Loading** CMU-MOSI **dataset**"
      ]
    },
    {
      "cell_type": "code",
      "execution_count": null,
      "metadata": {
        "colab": {
          "base_uri": "https://localhost:8080/"
        },
        "outputId": "f9350012-ab81-4dbb-8355-26887345081a",
        "id": "F1KcXr36wGEA"
      },
      "outputs": [
        {
          "output_type": "stream",
          "name": "stdout",
          "text": [
            "Cloning into 'MultiBench'...\n",
            "remote: Enumerating objects: 6943, done.\u001b[K\n",
            "remote: Counting objects: 100% (154/154), done.\u001b[K\n",
            "remote: Compressing objects: 100% (94/94), done.\u001b[K\n",
            "remote: Total 6943 (delta 72), reused 121 (delta 60), pack-reused 6789\u001b[K\n",
            "Receiving objects: 100% (6943/6943), 51.07 MiB | 18.70 MiB/s, done.\n",
            "Resolving deltas: 100% (4258/4258), done.\n"
          ]
        }
      ],
      "source": [
        "!git clone https://github.com/pliang279/MultiBench.git"
      ]
    },
    {
      "cell_type": "code",
      "execution_count": null,
      "metadata": {
        "colab": {
          "base_uri": "https://localhost:8080/"
        },
        "outputId": "700ac1f9-36a9-47f2-96b2-1299c593b338",
        "id": "j-745XjZwGEA"
      },
      "outputs": [
        {
          "output_type": "stream",
          "name": "stdout",
          "text": [
            "/content/MultiBench\n"
          ]
        }
      ],
      "source": [
        "%cd MultiBench"
      ]
    },
    {
      "cell_type": "code",
      "execution_count": null,
      "metadata": {
        "colab": {
          "base_uri": "https://localhost:8080/"
        },
        "outputId": "8f75f155-8677-417d-9282-fbf25095f3d7",
        "id": "j4zuE6vGwGEA"
      },
      "outputs": [
        {
          "name": "stdout",
          "output_type": "stream",
          "text": [
            "mkdir: cannot create directory ‘data’: File exists\n"
          ]
        }
      ],
      "source": [
        "!mkdir data\n",
        "!pip install gdown && gdown https://drive.google.com/u/0/uc?id=1szKIqO0t3Be_W91xvf6aYmsVVUa7wDHU"
      ]
    },
    {
      "cell_type": "code",
      "execution_count": null,
      "metadata": {
        "id": "nRWId_y7wGEB"
      },
      "outputs": [],
      "source": [
        "import torch\n",
        "import sys\n",
        "import os"
      ]
    },
    {
      "cell_type": "code",
      "execution_count": null,
      "metadata": {
        "id": "a3H3sNKywGEB"
      },
      "outputs": [],
      "source": [
        "# Import the associated dataloader for affect datasets, which MOSI is a part of.\n",
        "from datasets.affect.get_data import get_dataloader\n",
        "\n",
        "# Create the training, validation, and test-set dataloaders.\n",
        "traindata, validdata, testdata = get_dataloader(\n",
        "    '/content/MultiBench/mosi_raw.pkl', robust_test=False, max_pad=True, data_type='mosi', max_seq_len=50)"
      ]
    },
    {
      "cell_type": "markdown",
      "metadata": {
        "id": "25_K4ptzQH7b"
      },
      "source": [
        "## **splitting dataset to remove bias**"
      ]
    },
    {
      "cell_type": "code",
      "execution_count": null,
      "metadata": {
        "id": "prviX5slUASl"
      },
      "outputs": [],
      "source": [
        "from torch.utils.data import TensorDataset,DataLoader,ConcatDataset\n",
        "import numpy as np"
      ]
    },
    {
      "cell_type": "code",
      "source": [
        "labels_mapping = {\n",
        "        -2: 0,\n",
        "        -1: 1,\n",
        "        0: 2,\n",
        "        1: 3,\n",
        "        2: 4\n",
        "    }"
      ],
      "metadata": {
        "id": "eyagD-hJvx6t"
      },
      "execution_count": null,
      "outputs": []
    },
    {
      "cell_type": "code",
      "source": [
        "all_audio=[]\n",
        "all_video=[]\n",
        "all_text = []\n",
        "all_labels = []\n",
        "\n",
        "for batch in traindata:\n",
        "  video,audio,text,labels=batch\n",
        "  labels = torch.clamp(labels, min=-2, max=2)\n",
        "  # labels = torch.round(labels)\n",
        "  for i in range(labels.size(0)):\n",
        "        if labels[i] < -1:\n",
        "            labels[i] = -2\n",
        "        elif -1 <= labels[i] < 0:\n",
        "            labels[i] = -1\n",
        "        elif labels[i] == 0:\n",
        "            labels[i] = 0\n",
        "        elif 0 < labels[i] <= 1:\n",
        "            labels[i] = 1\n",
        "        elif 1 < labels[i] >1:\n",
        "            labels[i] = 2\n",
        "\n",
        "  labels_mapped = torch.empty_like(labels)\n",
        "\n",
        "  for i in range(labels.size(0)):\n",
        "      labels_mapped[i] = labels_mapping[labels[i].item()]\n",
        "\n",
        "\n",
        "  all_labels.extend(labels_mapped)\n",
        "  all_text.extend(text)\n",
        "  all_video.extend(video)\n",
        "  all_audio.extend(audio)\n",
        "\n",
        "\n",
        "print(\"counts:\")\n",
        "print(\"-2\",all_labels.count(torch.tensor(0)))\n",
        "print(\"-1\",all_labels.count(torch.tensor(1)))\n",
        "print(\"0\",all_labels.count(torch.tensor(2)))\n",
        "print(\"1\",all_labels.count(torch.tensor(3)))\n",
        "print(\"2\",all_labels.count(torch.tensor(4)))\n",
        "\n",
        "all_audio=torch.stack(all_audio)\n",
        "all_video=torch.stack(all_video)\n",
        "all_text=torch.stack(all_text)\n",
        "all_labels=torch.stack(all_labels)\n",
        "\n",
        "print(\"\\n\")\n",
        "print(all_audio.shape)\n",
        "print(all_video.shape)\n",
        "print(all_text.shape)\n",
        "print(all_labels.shape)\n",
        "\n",
        "new_dataset = TensorDataset(all_audio,all_video,all_text, all_labels)\n",
        "train_dataloader = DataLoader(new_dataset, batch_size=16,shuffle=True)\n"
      ],
      "metadata": {
        "colab": {
          "base_uri": "https://localhost:8080/"
        },
        "id": "bp5mjnS9wwAG",
        "outputId": "5d4af5e6-f608-4ad1-86c5-687c0b0f9383"
      },
      "execution_count": null,
      "outputs": [
        {
          "output_type": "stream",
          "name": "stdout",
          "text": [
            "counts:\n",
            "-2 303\n",
            "-1 249\n",
            "0 53\n",
            "1 213\n",
            "2 465\n",
            "\n",
            "\n",
            "torch.Size([1283, 50, 74])\n",
            "torch.Size([1283, 50, 35])\n",
            "torch.Size([1283, 50, 300])\n",
            "torch.Size([1283, 1])\n"
          ]
        }
      ]
    },
    {
      "cell_type": "code",
      "source": [
        "all_audio=[]\n",
        "all_video=[]\n",
        "all_text = []\n",
        "all_labels = []\n",
        "\n",
        "for batch in validdata:\n",
        "  video,audio,text,labels=batch\n",
        "  labels = torch.clamp(labels, min=-2, max=2)\n",
        "  # labels = torch.round(labels)\n",
        "  for i in range(labels.size(0)):\n",
        "        if labels[i] < -1:\n",
        "            labels[i] = -2\n",
        "        elif -1 <= labels[i] < 0:\n",
        "            labels[i] = -1\n",
        "        elif labels[i] == 0:\n",
        "            labels[i] = 0\n",
        "        elif 0 < labels[i] <= 1:\n",
        "            labels[i] = 1\n",
        "        elif 1 < labels[i] >1:\n",
        "            labels[i] = 2\n",
        "\n",
        "  labels_mapped = torch.empty_like(labels)\n",
        "\n",
        "  for i in range(labels.size(0)):\n",
        "      labels_mapped[i] = labels_mapping[labels[i].item()]\n",
        "\n",
        "  all_labels.extend(labels_mapped)\n",
        "  all_text.extend(text)\n",
        "  all_video.extend(video)\n",
        "  all_audio.extend(audio)\n",
        "\n",
        "print(\"counts:\")\n",
        "print(\"-2\",all_labels.count(torch.tensor(0)))\n",
        "print(\"-1\",all_labels.count(torch.tensor(1)))\n",
        "print(\"0\",all_labels.count(torch.tensor(2)))\n",
        "print(\"1\",all_labels.count(torch.tensor(3)))\n",
        "print(\"2\",all_labels.count(torch.tensor(4)))\n",
        "\n",
        "all_audio=torch.stack(all_audio)\n",
        "all_video=torch.stack(all_video)\n",
        "all_text=torch.stack(all_text)\n",
        "all_labels=torch.stack(all_labels)\n",
        "\n",
        "print(\"\\n\")\n",
        "print(all_audio.shape)\n",
        "print(all_video.shape)\n",
        "print(all_text.shape)\n",
        "print(all_labels.shape)\n",
        "\n",
        "new_dataset = TensorDataset(all_audio,all_video,all_text, all_labels)\n",
        "val_dataloader = DataLoader(new_dataset, batch_size=16,shuffle=True)\n"
      ],
      "metadata": {
        "colab": {
          "base_uri": "https://localhost:8080/"
        },
        "id": "d7rnlcVgy1h_",
        "outputId": "4799b052-7be1-4379-9dfd-dc817119bb2b"
      },
      "execution_count": null,
      "outputs": [
        {
          "output_type": "stream",
          "name": "stdout",
          "text": [
            "counts:\n",
            "-2 47\n",
            "-1 31\n",
            "0 13\n",
            "1 38\n",
            "2 85\n",
            "\n",
            "\n",
            "torch.Size([214, 50, 74])\n",
            "torch.Size([214, 50, 35])\n",
            "torch.Size([214, 50, 300])\n",
            "torch.Size([214, 1])\n"
          ]
        }
      ]
    },
    {
      "cell_type": "code",
      "source": [
        "all_audio=[]\n",
        "all_video=[]\n",
        "all_text = []\n",
        "all_labels = []\n",
        "\n",
        "for batch in testdata:\n",
        "  video,audio,text,labels=batch\n",
        "  labels = torch.clamp(labels, min=-2, max=2)\n",
        "  # labels = torch.round(labels)\n",
        "  for i in range(labels.size(0)):\n",
        "        if labels[i] < -1:\n",
        "            labels[i] = -2\n",
        "        elif -1 <= labels[i] < 0:\n",
        "            labels[i] = -1\n",
        "        elif labels[i] == 0:\n",
        "            labels[i] = 0\n",
        "        elif 0 < labels[i] <= 1:\n",
        "            labels[i] = 1\n",
        "        elif 1 < labels[i] >1:\n",
        "            labels[i] = 2\n",
        "\n",
        "  labels_mapped = torch.empty_like(labels)\n",
        "\n",
        "  for i in range(labels.size(0)):\n",
        "      labels_mapped[i] = labels_mapping[labels[i].item()]\n",
        "\n",
        "  all_labels.extend(labels_mapped)\n",
        "  all_text.extend(text)\n",
        "  all_video.extend(video)\n",
        "  all_audio.extend(audio)\n",
        "\n",
        "print(\"counts:\")\n",
        "print(\"-2\",all_labels.count(torch.tensor(0)))\n",
        "print(\"-1\",all_labels.count(torch.tensor(1)))\n",
        "print(\"0\",all_labels.count(torch.tensor(2)))\n",
        "print(\"1\",all_labels.count(torch.tensor(3)))\n",
        "print(\"2\",all_labels.count(torch.tensor(4)))\n",
        "\n",
        "all_audio=torch.stack(all_audio)\n",
        "all_video=torch.stack(all_video)\n",
        "all_text=torch.stack(all_text)\n",
        "all_labels=torch.stack(all_labels)\n",
        "\n",
        "print(\"\\n\")\n",
        "\n",
        "print(all_audio.shape)\n",
        "print(all_video.shape)\n",
        "print(all_text.shape)\n",
        "print(all_labels.shape)\n",
        "\n",
        "new_dataset = TensorDataset(all_audio,all_video,all_text, all_labels)\n",
        "test_dataloader = DataLoader(new_dataset, batch_size=16,shuffle=True)\n"
      ],
      "metadata": {
        "colab": {
          "base_uri": "https://localhost:8080/"
        },
        "id": "zfvveJxwy15G",
        "outputId": "d55fa84c-715c-4cd0-d538-24c90c6049f4"
      },
      "execution_count": null,
      "outputs": [
        {
          "output_type": "stream",
          "name": "stdout",
          "text": [
            "counts:\n",
            "-2 263\n",
            "-1 116\n",
            "0 30\n",
            "1 109\n",
            "2 168\n",
            "\n",
            "\n",
            "torch.Size([686, 50, 74])\n",
            "torch.Size([686, 50, 35])\n",
            "torch.Size([686, 50, 300])\n",
            "torch.Size([686, 1])\n"
          ]
        }
      ]
    },
    {
      "cell_type": "markdown",
      "metadata": {
        "id": "QfcC6FjR4ErR"
      },
      "source": [
        "--------------------------------------------------------------------------------------------------------------------------------------"
      ]
    },
    {
      "cell_type": "code",
      "execution_count": null,
      "metadata": {
        "id": "mw9TazAfwGEH"
      },
      "outputs": [],
      "source": [
        "import torch\n",
        "import torch.nn as nn\n",
        "from torch.nn.parameter import Parameter\n",
        "import torch.nn.functional as F\n",
        "\n",
        "class SubnetModel(nn.Module):\n",
        "    def __init__(self,input_size,num_utterances,fc1_size, fc2_size,fc3_size):\n",
        "        super(SubnetModel, self).__init__()\n",
        "\n",
        "        self.drop = nn.Dropout(p=0.15)\n",
        "\n",
        "        # Fully connected layers\n",
        "\n",
        "        #fc1 gets hidden_size dimension values as input\n",
        "        self.fc1 = nn.Linear(input_size, fc1_size)\n",
        "        self.fc2 = nn.Linear(fc1_size, fc2_size)\n",
        "        self.fc3 = nn.Linear(fc2_size, fc3_size)\n",
        "\n",
        "        # Activation functions\n",
        "        self.relu = nn.ReLU()\n",
        "\n",
        "        # Set requires_grad=True for the weights of the layers\n",
        "        for param in self.parameters():\n",
        "            param.requires_grad = True\n",
        "\n",
        "\n",
        "    def forward(self, x):\n",
        "\n",
        "        x = torch.mean(x, dim=1)\n",
        "\n",
        "        fc1_out = self.relu(self.fc1(x))\n",
        "        # drop1=self.drop(fc1_out)\n",
        "\n",
        "        fc2_out = self.relu(self.fc2(fc1_out))\n",
        "        # drop2=self.drop(fc2_out)\n",
        "\n",
        "        fc3_out=self.relu(self.fc3(fc2_out))\n",
        "        # drop3=self.drop(fc3_out)\n",
        "\n",
        "        return fc3_out\n",
        "\n"
      ]
    },
    {
      "cell_type": "code",
      "execution_count": null,
      "metadata": {
        "id": "jhbGj7d0wGEI"
      },
      "outputs": [],
      "source": [
        "import torch\n",
        "import torch.nn as nn\n",
        "from torch.nn.parameter import Parameter\n",
        "\n",
        "class TextModel(nn.Module):\n",
        "    def __init__(self,input_size, hidden_size, num_layers,fc1_size, fc2_size):\n",
        "        super(TextModel, self).__init__()\n",
        "\n",
        "        # LSTM layer\n",
        "        self.lstm = nn.LSTM(input_size, hidden_size, num_layers,batch_first=True)\n",
        "\n",
        "        # Fully connected layers\n",
        "        self.drop = nn.Dropout(p=0.15)\n",
        "\n",
        "        #fc1 gets hidden_size dimension values as input\n",
        "        self.fc1 = nn.Linear(hidden_size, fc1_size)\n",
        "        self.fc2 = nn.Linear(fc1_size, fc2_size)\n",
        "\n",
        "        # Activation functions\n",
        "        self.relu = nn.ReLU()\n",
        "        # self.sigmoid=nn.Sigmoid()\n",
        "\n",
        "        # Set requires_grad=True for the weights of the layers\n",
        "        for param in self.parameters():\n",
        "            param.requires_grad = True\n",
        "\n",
        "    def forward(self, x):\n",
        "\n",
        "        # LSTM layer\n",
        "\n",
        "        lstm_out, (hidden_states, cell_states) = self.lstm(x)\n",
        "\n",
        "        fc1_out = self.relu(self.fc1(hidden_states.squeeze()))\n",
        "        # drop1=self.drop(fc1_out)\n",
        "\n",
        "        fc2_out = self.relu(self.fc2(fc1_out))\n",
        "        # drop2=self.drop(fc2_out)\n",
        "\n",
        "\n",
        "        return fc2_out\n",
        "\n"
      ]
    },
    {
      "cell_type": "code",
      "execution_count": null,
      "metadata": {
        "id": "-pLLDQIlwGEI"
      },
      "outputs": [],
      "source": [
        "import torch\n",
        "import torch.nn as nn\n",
        "from torch.nn.parameter import Parameter\n",
        "from torch.autograd import Variable\n",
        "\n",
        "class TFN(nn.Module):\n",
        "    def __init__(self,audio_params,video_params,text_params,SIN_params):\n",
        "        super(TFN, self).__init__()\n",
        "\n",
        "        self.audio_params=audio_params\n",
        "        self.video_params=video_params\n",
        "        self.text_params=text_params\n",
        "\n",
        "        #unimodels\n",
        "        self.audio_subnet=SubnetModel(audio_params[0],audio_params[1],audio_params[2],audio_params[3],audio_params[4])\n",
        "        self.video_subnet=SubnetModel(video_params[0],video_params[1],video_params[2],video_params[3],video_params[4])\n",
        "        self.text_subnet=TextModel(text_params[0],text_params[1],text_params[2],text_params[3],text_params[4])\n",
        "\n",
        "        # Fully connected layers\n",
        "\n",
        "        self.drop = nn.Dropout(p=0.15)\n",
        "\n",
        "        #fc1 gets hidden_size dimension values as input\n",
        "        self.fc1 = nn.Linear(((audio_params[2]+1)*(video_params[2]+1)*(text_params[3]+1)), SIN_params[0])\n",
        "        self.fc2 = nn.Linear(SIN_params[0], SIN_params[1])\n",
        "\n",
        "        # Output layer\n",
        "        self.output_layer = nn.Linear(SIN_params[1], 5)\n",
        "\n",
        "        # Activation functions\n",
        "        self.relu = nn.ReLU()\n",
        "        self.softmax=nn.Softmax(dim=1)\n",
        "\n",
        "        # Set requires_grad=True for the weights of the layers\n",
        "        for param in self.parameters():\n",
        "            param.requires_grad = True\n",
        "\n",
        "    def forward(self,x):\n",
        "\n",
        "        DTYPE = torch.FloatTensor\n",
        "\n",
        "        batch_size=x[0].shape[0]\n",
        "\n",
        "        # unimodal outputs\n",
        "\n",
        "        audio_out=self.audio_subnet(x[0])\n",
        "        video_out=self.video_subnet(x[1])\n",
        "        text_out=self.text_subnet(x[2])\n",
        "\n",
        "        # adding 1 to increase the dimension value\n",
        "\n",
        "        audio_out = torch.cat((Variable(torch.ones(batch_size, 1).type(DTYPE), requires_grad=False), audio_out), dim=1)\n",
        "        # print(\"audio_out\")\n",
        "        # print(audio_out.shape)\n",
        "        video_out = torch.cat((Variable(torch.ones(batch_size, 1).type(DTYPE), requires_grad=False), video_out), dim=1)\n",
        "        # print(\"video_out\")\n",
        "        # print(video_out.shape)\n",
        "        text_out = torch.cat((Variable(torch.ones(batch_size, 1).type(DTYPE), requires_grad=False), text_out), dim=1)\n",
        "        # print(\"text_out\")\n",
        "        # print(text_out.shape)\n",
        "\n",
        "\n",
        "        # tensorfusion operation\n",
        "\n",
        "        fusion_tensor = torch.bmm(audio_out.unsqueeze(2), video_out.unsqueeze(1))\n",
        "        # print(\"fusion tensor 1\")\n",
        "        # print(fusion_tensor.shape)\n",
        "        fusion_tensor = fusion_tensor.view(-1, (self.audio_params[2] + 1) * (self.video_params[2] + 1), 1)\n",
        "        # print(\"fusion tensor 2\")\n",
        "        # print(fusion_tensor.shape)\n",
        "        fusion_tensor = torch.bmm(fusion_tensor, text_out.unsqueeze(1)).view(batch_size, -1)\n",
        "        # print(\"fusion tensor 3\")\n",
        "        # print(fusion_tensor.shape)\n",
        "\n",
        "        # sentiment inference network (SIN)\n",
        "\n",
        "        fc1_out = self.relu(self.fc1(fusion_tensor))\n",
        "        # drop1=self.drop(fc1_out)\n",
        "\n",
        "        fc2_out = self.relu(self.fc2(fc1_out))\n",
        "        # drop2=self.drop(fc2_out)\n",
        "\n",
        "        output = self.output_layer(fc2_out)\n",
        "\n",
        "        return output"
      ]
    },
    {
      "cell_type": "markdown",
      "metadata": {
        "id": "Qlqzxvw_wGEI"
      },
      "source": [
        "**-------------------------------------------------------------------------------------------------------------------------------------**"
      ]
    },
    {
      "cell_type": "code",
      "execution_count": null,
      "metadata": {
        "id": "jGT0CfKuwGEI"
      },
      "outputs": [],
      "source": [
        "max_seq_len=50\n",
        "\n",
        "audio_params=(74,max_seq_len,32,32,32) # (feature_length,max_seq_len,fc1_size,fc2_size,fc3_size)\n",
        "video_params=(35,max_seq_len,32,32,32) # (feature_length,max_seq_len,fc1_size,fc2_size,fc3_size)\n",
        "text_params=(300,128,1,128,128) # (feature_length,LSTM_hidden_size,num_LSTM_layers,fc1_size,fc2_size)\n",
        "\n",
        "SIN_params=(128,128)\n",
        "\n",
        "final_model=TFN(audio_params,video_params,text_params,SIN_params)\n"
      ]
    },
    {
      "cell_type": "markdown",
      "metadata": {
        "id": "N8QUhFOZwGEI"
      },
      "source": [
        "loading weights of saved model"
      ]
    },
    {
      "cell_type": "code",
      "execution_count": null,
      "metadata": {
        "colab": {
          "base_uri": "https://localhost:8080/"
        },
        "outputId": "cc866209-26c9-417f-dce9-bfd40956034f",
        "id": "_e7xTEZVwGEI"
      },
      "outputs": [
        {
          "output_type": "execute_result",
          "data": {
            "text/plain": [
              "<All keys matched successfully>"
            ]
          },
          "metadata": {},
          "execution_count": 12
        }
      ],
      "source": [
        "final_model.load_state_dict(torch.load('/content/drive/MyDrive/multi_model_SA/final_model_files/TFN_5class.pth'))"
      ]
    },
    {
      "cell_type": "code",
      "execution_count": null,
      "metadata": {
        "id": "UUl_NW_WwGEJ"
      },
      "outputs": [],
      "source": [
        "optimizer = torch.optim.Adam(final_model.parameters(),lr=5e-5)\n",
        "num_epochs = 20"
      ]
    },
    {
      "cell_type": "code",
      "execution_count": null,
      "metadata": {
        "id": "Z2YA0KupwGEJ"
      },
      "outputs": [],
      "source": [
        "import numpy as np\n",
        "from sklearn.metrics import accuracy_score ,f1_score\n",
        "import torch.nn.functional as F"
      ]
    },
    {
      "cell_type": "code",
      "execution_count": null,
      "metadata": {
        "id": "M6pWbWczwGEJ"
      },
      "outputs": [],
      "source": [
        "for epoch in range(num_epochs):\n",
        "\n",
        "    print(\"EPOCH : \",epoch+1)\n",
        "    # Training\n",
        "    total_train_loss=0.0\n",
        "    num_sequences=0\n",
        "    correct=0\n",
        "    all_predictions = []\n",
        "    all_targets = []\n",
        "    final_model.train()  # Set the model to training mode\n",
        "    for batch in train_dataloader:\n",
        "        # targets=targets.unsqueeze(1).repeat(1, 50, 1)\n",
        "        optimizer.zero_grad()  # Zero the gradients\n",
        "        outputs = final_model(batch[:-1])\n",
        "\n",
        "        labels=batch[-1]\n",
        "        labels=labels.squeeze().long()\n",
        "\n",
        "        loss=F.cross_entropy(outputs, labels)\n",
        "\n",
        "        # loss = Loss(outputs, labels) # calculate loss based on probability values\n",
        "        total_train_loss+=loss\n",
        "        loss.backward()  # Backpropagation\n",
        "        optimizer.step()  # Update weights\n",
        "\n",
        "        probabilities = torch.softmax(outputs, dim=1)\n",
        "        max_index = torch.argmax(probabilities, dim=1)\n",
        "\n",
        "        all_predictions.extend(max_index)\n",
        "        all_targets.extend(labels)\n",
        "\n",
        "        num_sequences+=1\n",
        "\n",
        "\n",
        "    average_train_loss = total_train_loss / num_sequences\n",
        "    all_predictions = np.array([prediction.detach().numpy() for prediction in all_predictions])\n",
        "    all_targets = np.array([target.detach().numpy() for target in all_targets])\n",
        "\n",
        "    train_acc= accuracy_score(all_targets, all_predictions)\n",
        "    print(\"-------------Training----------------\")\n",
        "    print(f'Epoch [{epoch + 1}/{num_epochs}],accuracy:{train_acc:.4f}')\n",
        "\n",
        "\n",
        "    # Validation\n",
        "    final_model.eval()  # Set the model to evaluation mode\n",
        "    total_val_loss = 0.0\n",
        "    num_sequences=0\n",
        "    val_all_predictions = []\n",
        "    val_all_targets = []\n",
        "    with torch.no_grad():\n",
        "\n",
        "        for batch in test_dataloader:\n",
        "            val_targets=batch[-1]\n",
        "            val_outputs = final_model(batch[:-1])\n",
        "            val_targets=val_targets.squeeze().long()\n",
        "\n",
        "            val_loss=F.cross_entropy(val_outputs, val_targets)\n",
        "            total_val_loss += val_loss.item()\n",
        "\n",
        "            val_probabilities = torch.softmax(val_outputs, dim=1)\n",
        "            val_max_index = torch.argmax(val_probabilities, dim=1)\n",
        "\n",
        "\n",
        "            val_all_predictions.extend(val_max_index)\n",
        "            val_all_targets.extend(val_targets)\n",
        "            num_sequences+=1\n",
        "\n",
        "    average_val_loss = total_val_loss / num_sequences\n",
        "    val_all_predictions = np.array([prediction.detach().numpy() for prediction in val_all_predictions])\n",
        "    val_all_targets = np.array([target.detach().numpy() for target in val_all_targets])\n",
        "    acc = accuracy_score(val_all_targets, val_all_predictions)\n",
        "\n",
        "\n",
        "\n",
        "    print(\"--------------Validation----------\")\n",
        "    print(f'Epoch [{epoch + 1}/{num_epochs}],accuracy: {acc:.4f}')\n",
        "\n",
        "    print(\"\\n \\n\")\n"
      ]
    },
    {
      "cell_type": "markdown",
      "metadata": {
        "id": "0GcmsT3kSsb_"
      },
      "source": [
        "---------------------------------------------------------------------------------------------"
      ]
    },
    {
      "cell_type": "code",
      "source": [
        "import numpy as np\n",
        "import matplotlib.pyplot as plt\n",
        "from sklearn.metrics import confusion_matrix\n",
        "import seaborn as sns\n",
        "\n",
        "final_model.eval()\n",
        "\n",
        "with torch.no_grad():\n",
        "    test_all_predictions = []\n",
        "    test_all_targets = []\n",
        "\n",
        "    for batch in test_dataloader:\n",
        "        test_targets=batch[-1]\n",
        "        test_outputs = final_model(batch[:-1])\n",
        "        test_targets=test_targets.squeeze().long()\n",
        "\n",
        "        test_probabilities = torch.softmax(test_outputs, dim=1)\n",
        "        test_max_index = torch.argmax(test_probabilities, dim=1)\n",
        "\n",
        "        test_all_predictions.extend(test_max_index)\n",
        "        test_all_targets.extend(test_targets)\n",
        "\n",
        "\n",
        "    test_all_predictions = np.array([prediction.detach().numpy() for prediction in test_all_predictions])\n",
        "    test_all_targets = np.array([target.detach().numpy() for target in test_all_targets])\n",
        "    acc = accuracy_score(test_all_targets, test_all_predictions)\n",
        "\n",
        "    print(f'Test accuracy: {acc:.4f}')\n",
        "\n",
        "    # Compute confusion matrix\n",
        "    conf_matrix = confusion_matrix(test_all_targets, test_all_predictions)\n",
        "\n",
        "    # Plot confusion matrix\n",
        "    plt.figure(figsize=(8, 6))\n",
        "    sns.heatmap(conf_matrix, annot=True, fmt=\"d\", cmap=\"Blues\",\n",
        "                  xticklabels=np.unique(test_all_targets), yticklabels=np.unique(test_all_targets))\n",
        "    plt.xlabel('Predicted labels')\n",
        "    plt.ylabel('True labels')\n",
        "    plt.title('Confusion Matrix')\n",
        "    plt.show()\n"
      ],
      "metadata": {
        "colab": {
          "base_uri": "https://localhost:8080/",
          "height": 564
        },
        "id": "Ih1Kytbj9HwX",
        "outputId": "375fbcea-6ce8-437c-c366-a80a9aee3070"
      },
      "execution_count": null,
      "outputs": [
        {
          "output_type": "stream",
          "name": "stdout",
          "text": [
            "Test accuracy: 0.3192\n"
          ]
        },
        {
          "output_type": "display_data",
          "data": {
            "text/plain": [
              "<Figure size 800x600 with 2 Axes>"
            ],
            "image/png": "[encoded data removed]"
          },
          "metadata": {}
        }
      ]
    },
    {
      "cell_type": "markdown",
      "metadata": {
        "id": "zILJMxI2wGEK"
      },
      "source": [
        "----------------------------------------------------------------------------------------------------------------------------------"
      ]
    },
    {
      "cell_type": "markdown",
      "metadata": {
        "id": "Bms7GJsYKwNR"
      },
      "source": [
        "on test_dataloader:\n",
        "\n",
        "Test accuracy: 0.3192"
      ]
    },
    {
      "cell_type": "markdown",
      "metadata": {
        "id": "dmikCRUMwGEK"
      },
      "source": [
        "---------------------------------------------------------------------------------------------------------------------------------------"
      ]
    },
    {
      "cell_type": "markdown",
      "metadata": {
        "id": "-f1YFj-iwGEL"
      },
      "source": [
        "# Saving the model:\n"
      ]
    },
    {
      "cell_type": "code",
      "source": [
        "torch.save(final_model.state_dict(), '/content/drive/MyDrive/multi_model_SA/final_model_files/TFN_5class.pth')"
      ],
      "metadata": {
        "id": "hMNry7ylygRQ"
      },
      "execution_count": null,
      "outputs": []
    },
    {
      "cell_type": "markdown",
      "metadata": {
        "id": "BRDuFjbCwGEL"
      },
      "source": [
        "------------------------------------------------------------"
      ]
    }
  ]
}